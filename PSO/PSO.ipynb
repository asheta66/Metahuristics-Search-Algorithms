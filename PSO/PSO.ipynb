{
  "nbformat": 4,
  "nbformat_minor": 0,
  "metadata": {
    "colab": {
      "name": "PSO.ipynb",
      "provenance": [],
      "collapsed_sections": [],
      "authorship_tag": "ABX9TyPUmJifAqmATJ45CXslXv4Q",
      "include_colab_link": true
    },
    "kernelspec": {
      "name": "python3",
      "display_name": "Python 3"
    },
    "language_info": {
      "name": "python"
    }
  },
  "cells": [
    {
      "cell_type": "markdown",
      "metadata": {
        "id": "view-in-github",
        "colab_type": "text"
      },
      "source": [
        "<a href=\"https://colab.research.google.com/github/asheta66/Metahuristics-Search-Algorithms/blob/main/PSO/PSO.ipynb\" target=\"_parent\"><img src=\"https://colab.research.google.com/assets/colab-badge.svg\" alt=\"Open In Colab\"/></a>"
      ]
    },
    {
      "cell_type": "code",
      "execution_count": 68,
      "metadata": {
        "colab": {
          "base_uri": "https://localhost:8080/",
          "height": 384
        },
        "id": "MAFyDEr5M5GW",
        "outputId": "0546afaf-c4a3-45da-eb87-b6d47da9061f"
      },
      "outputs": [
        {
          "output_type": "error",
          "ename": "TypeError",
          "evalue": "ignored",
          "traceback": [
            "\u001b[0;31m---------------------------------------------------------------------------\u001b[0m",
            "\u001b[0;31mTypeError\u001b[0m                                 Traceback (most recent call last)",
            "\u001b[0;32m<ipython-input-68-9e06006e2313>\u001b[0m in \u001b[0;36m<module>\u001b[0;34m()\u001b[0m\n\u001b[1;32m    131\u001b[0m \u001b[0minitial\u001b[0m\u001b[0;34m=\u001b[0m\u001b[0;34m[\u001b[0m\u001b[0;36m5\u001b[0m\u001b[0;34m,\u001b[0m\u001b[0;36m5\u001b[0m\u001b[0;34m]\u001b[0m               \u001b[0;31m# initial starting location [x1,x2...]\u001b[0m\u001b[0;34m\u001b[0m\u001b[0;34m\u001b[0m\u001b[0m\n\u001b[1;32m    132\u001b[0m \u001b[0mbounds\u001b[0m\u001b[0;34m=\u001b[0m\u001b[0;34m[\u001b[0m\u001b[0;34m(\u001b[0m\u001b[0;34m-\u001b[0m\u001b[0;36m10\u001b[0m\u001b[0;34m,\u001b[0m\u001b[0;36m10\u001b[0m\u001b[0;34m)\u001b[0m\u001b[0;34m,\u001b[0m\u001b[0;34m(\u001b[0m\u001b[0;34m-\u001b[0m\u001b[0;36m10\u001b[0m\u001b[0;34m,\u001b[0m\u001b[0;36m10\u001b[0m\u001b[0;34m)\u001b[0m\u001b[0;34m]\u001b[0m  \u001b[0;31m# input bounds [(x1_min,x1_max),(x2_min,x2_max)...]\u001b[0m\u001b[0;34m\u001b[0m\u001b[0;34m\u001b[0m\u001b[0m\n\u001b[0;32m--> 133\u001b[0;31m \u001b[0mPSO\u001b[0m\u001b[0;34m(\u001b[0m\u001b[0mfunc1\u001b[0m\u001b[0;34m,\u001b[0m\u001b[0minitial\u001b[0m\u001b[0;34m,\u001b[0m\u001b[0mbounds\u001b[0m\u001b[0;34m,\u001b[0m\u001b[0mnum_particles\u001b[0m\u001b[0;34m=\u001b[0m\u001b[0;36m15\u001b[0m\u001b[0;34m,\u001b[0m\u001b[0mmaxiter\u001b[0m\u001b[0;34m=\u001b[0m\u001b[0;36m30\u001b[0m\u001b[0;34m)\u001b[0m\u001b[0;34m\u001b[0m\u001b[0;34m\u001b[0m\u001b[0m\n\u001b[0m\u001b[1;32m    134\u001b[0m \u001b[0;34m\u001b[0m\u001b[0m\n\u001b[1;32m    135\u001b[0m \u001b[0;31m#--- END ----------------------------------------------------------------------+\u001b[0m\u001b[0;34m\u001b[0m\u001b[0;34m\u001b[0m\u001b[0;34m\u001b[0m\u001b[0m\n",
            "\u001b[0;32m<ipython-input-68-9e06006e2313>\u001b[0m in \u001b[0;36m__init__\u001b[0;34m(self, costFunc, x0, bounds, num_particles, maxiter)\u001b[0m\n\u001b[1;32m    101\u001b[0m                     \u001b[0mBest_fitness\u001b[0m\u001b[0;34m[\u001b[0m\u001b[0mj\u001b[0m\u001b[0;34m:\u001b[0m\u001b[0;34m]\u001b[0m\u001b[0;34m=\u001b[0m \u001b[0mpos_best_g\u001b[0m\u001b[0;34m\u001b[0m\u001b[0;34m\u001b[0m\u001b[0m\n\u001b[1;32m    102\u001b[0m                     \u001b[0;31m#print(err_best_g)\u001b[0m\u001b[0;34m\u001b[0m\u001b[0;34m\u001b[0m\u001b[0;34m\u001b[0m\u001b[0m\n\u001b[0;32m--> 103\u001b[0;31m                     \u001b[0mBest_Error\u001b[0m\u001b[0;34m[\u001b[0m\u001b[0mj\u001b[0m\u001b[0;34m:\u001b[0m\u001b[0;34m]\u001b[0m\u001b[0;34m=\u001b[0m\u001b[0merr_best_g\u001b[0m\u001b[0;34m\u001b[0m\u001b[0;34m\u001b[0m\u001b[0m\n\u001b[0m\u001b[1;32m    104\u001b[0m \u001b[0;34m\u001b[0m\u001b[0m\n\u001b[1;32m    105\u001b[0m             \u001b[0;31m# cycle through swarm and update velocities and position\u001b[0m\u001b[0;34m\u001b[0m\u001b[0;34m\u001b[0m\u001b[0;34m\u001b[0m\u001b[0m\n",
            "\u001b[0;31mTypeError\u001b[0m: can only assign an iterable"
          ]
        }
      ],
      "source": [
        "#------------------------------------------------------------------------------+\n",
        "#\n",
        "#   Nathan A. Rooy\n",
        "#   Simple Particle Swarm Optimization (PSO) with Python\n",
        "#   July, 2016\n",
        "#\n",
        "#------------------------------------------------------------------------------+\n",
        "#--- IMPORT DEPENDENCIES ------------------------------------------------------+\n",
        "\n",
        "from __future__ import division\n",
        "import random\n",
        "import math\n",
        "\n",
        "#--- COST FUNCTION ------------------------------------------------------------+\n",
        "\n",
        "# function we are attempting to optimize (minimize)\n",
        "def func1(x):\n",
        "    total=0\n",
        "    for i in range(len(x)):\n",
        "        total+=x[i]**2 + x[i]  + 20\n",
        "    return total\n",
        "\n",
        "#--- MAIN ---------------------------------------------------------------------+\n",
        "\n",
        "class Particle:\n",
        "    def __init__(self,x0):\n",
        "        self.position_i=[]           # particle position\n",
        "        self.velocity_i=[]            # particle velocity\n",
        "        self.pos_best_i=[]          # best position individual\n",
        "        self.err_best_i=-1           # best error individual\n",
        "        self.err_i=-1                   # error individual\n",
        "\n",
        "        for i in range(0,num_dimensions):\n",
        "            self.velocity_i.append(random.uniform(-1,1))\n",
        "            self.position_i.append(x0[i])\n",
        "\n",
        "    # evaluate current fitness\n",
        "    def evaluate(self,costFunc):\n",
        "        self.err_i=costFunc(self.position_i)\n",
        "\n",
        "        # check to see if the current position is an individual best\n",
        "        if self.err_i < self.err_best_i or self.err_best_i==-1:\n",
        "            self.pos_best_i=self.position_i\n",
        "            self.err_best_i=self.err_i\n",
        "\n",
        "    # update new particle velocity\n",
        "    def update_velocity(self,pos_best_g):\n",
        "        w=0.5       # constant inertia weight (how much to weigh the previous velocity)\n",
        "        c1=1        # cognative constant\n",
        "        c2=2        # social constant\n",
        "\n",
        "        for i in range(0,num_dimensions):\n",
        "            r1=random.random()\n",
        "            r2=random.random()\n",
        "\n",
        "            vel_cognitive=c1*r1*(self.pos_best_i[i]-self.position_i[i])\n",
        "            vel_social=c2*r2*(pos_best_g[i]-self.position_i[i])\n",
        "            self.velocity_i[i]=w*self.velocity_i[i]+vel_cognitive+vel_social\n",
        "\n",
        "    # update the particle position based off new velocity updates\n",
        "    def update_position(self,bounds):\n",
        "        for i in range(0,num_dimensions):\n",
        "            self.position_i[i]=self.position_i[i]+self.velocity_i[i]\n",
        "\n",
        "            # adjust maximum position if necessary\n",
        "            if self.position_i[i]>bounds[i][1]:\n",
        "                self.position_i[i]=bounds[i][1]\n",
        "\n",
        "            # adjust minimum position if neseccary\n",
        "            if self.position_i[i] < bounds[i][0]:\n",
        "                self.position_i[i]=bounds[i][0]\n",
        "                \n",
        "class PSO():\n",
        "    def __init__(self,costFunc,x0,bounds,num_particles,maxiter):\n",
        "        global num_dimensions\n",
        "\n",
        "        num_dimensions=len(x0)\n",
        "        err_best_g=-1                   # best error for group\n",
        "        pos_best_g=[]                   # best position for group\n",
        "        Best_fitness = []\n",
        "        Best_Error = []\n",
        "        # establish the swarm\n",
        "        swarm=[]\n",
        "        for i in range(0,num_particles):\n",
        "            swarm.append(Particle(x0))\n",
        "        # begin optimization loop\n",
        "        i=0\n",
        "        while i < maxiter:\n",
        "            #print i,err_best_g\n",
        "            # cycle through particles in swarm and evaluate fitness\n",
        "            for j in range(0,num_particles):\n",
        "                swarm[j].evaluate(costFunc)\n",
        "\n",
        "                # determine if current particle is the best (globally)\n",
        "                if swarm[j].err_i < err_best_g or err_best_g == -1:\n",
        "                    pos_best_g=list(swarm[j].position_i)\n",
        "                    err_best_g=float(swarm[j].err_i)\n",
        "                    #print(pos_best_g )\n",
        "                    Best_fitness[j:]= pos_best_g   \n",
        "                    #print(err_best_g)\n",
        "                    Best_Error[j]=err_best_g        \n",
        "\n",
        "            # cycle through swarm and update velocities and position\n",
        "            for j in range(0,num_particles):\n",
        "                swarm[j].update_velocity(pos_best_g)\n",
        "                swarm[j].update_position(bounds)\n",
        "            i+=1\n",
        "           \n",
        "#====================================\n",
        "        import numpy as np\n",
        "\n",
        "        # print final results\n",
        "        print(\"____________________\")\n",
        "        print(\"Best Solutions are: \")\n",
        "        np.set_printoptions(precision=3)\n",
        "        arr = np.array(pos_best_g)\n",
        "        print (arr)\n",
        "\n",
        "        print(\"____________________\")\n",
        "        print(\"Minimum error: \")\n",
        "        print (round(err_best_g))\n",
        "        print(\"____________________\")\n",
        "\n",
        "if __name__ == \"__PSO__\":\n",
        "    main()\n",
        "\n",
        "#--- RUN ----------------------------------------------------------------------+\n",
        "\n",
        "initial=[5,5]               # initial starting location [x1,x2...]\n",
        "bounds=[(-10,10),(-10,10)]  # input bounds [(x1_min,x1_max),(x2_min,x2_max)...]\n",
        "PSO(func1,initial,bounds,num_particles=15,maxiter=30)\n",
        "\n",
        "#--- END ----------------------------------------------------------------------+"
      ]
    },
    {
      "cell_type": "code",
      "source": [
        "#--- Convergence Curves ----------------------------------------------------------------------+\n",
        "import matplotlib.pyplot as plt\n",
        "\n",
        "\n",
        "fig, axs = plt.subplots(figsize=(10, 6), tight_layout=True)\n",
        "plt.plot(Best_Error, '-b', label='Actual')\n",
        "#plt.plot(y_pred_test, '.-r', label='Estimated')\n",
        "plt.xlabel(r'$ Generation (s)$', fontsize=12)\n",
        "plt.ylabel(r'$ Fitnedd$', fontsize=12)\n",
        "plt.title(r'Convergence Curve for PSO', fontname= 'serif',fontsize=14, color='b')\n",
        "plt.grid(True)\n",
        "plt.legend(fancybox=True, framealpha=1, shadow=True, borderpad=1, frameon=True, loc='lower center', ncol=2)\n",
        "#plt.savefig(r'C:\\Users\\Admin\\Desktop\\Data Science Class\\Simple_Linear_Regression\\Actual_Estimated.png')\n",
        "plt.show()\n"
      ],
      "metadata": {
        "colab": {
          "base_uri": "https://localhost:8080/",
          "height": 677
        },
        "id": "19P_pR5IYGXf",
        "outputId": "e43718a2-909f-4786-b66b-4885465f4451"
      },
      "execution_count": 59,
      "outputs": [
        {
          "output_type": "error",
          "ename": "NameError",
          "evalue": "ignored",
          "traceback": [
            "\u001b[0;31m---------------------------------------------------------------------------\u001b[0m",
            "\u001b[0;31mNameError\u001b[0m                                 Traceback (most recent call last)",
            "\u001b[0;32m<ipython-input-59-0cead3d1267e>\u001b[0m in \u001b[0;36m<module>\u001b[0;34m()\u001b[0m\n\u001b[1;32m      4\u001b[0m \u001b[0;34m\u001b[0m\u001b[0m\n\u001b[1;32m      5\u001b[0m \u001b[0mfig\u001b[0m\u001b[0;34m,\u001b[0m \u001b[0maxs\u001b[0m \u001b[0;34m=\u001b[0m \u001b[0mplt\u001b[0m\u001b[0;34m.\u001b[0m\u001b[0msubplots\u001b[0m\u001b[0;34m(\u001b[0m\u001b[0mfigsize\u001b[0m\u001b[0;34m=\u001b[0m\u001b[0;34m(\u001b[0m\u001b[0;36m10\u001b[0m\u001b[0;34m,\u001b[0m \u001b[0;36m6\u001b[0m\u001b[0;34m)\u001b[0m\u001b[0;34m,\u001b[0m \u001b[0mtight_layout\u001b[0m\u001b[0;34m=\u001b[0m\u001b[0;32mTrue\u001b[0m\u001b[0;34m)\u001b[0m\u001b[0;34m\u001b[0m\u001b[0;34m\u001b[0m\u001b[0m\n\u001b[0;32m----> 6\u001b[0;31m \u001b[0mplt\u001b[0m\u001b[0;34m.\u001b[0m\u001b[0mplot\u001b[0m\u001b[0;34m(\u001b[0m\u001b[0mBest_fitness\u001b[0m\u001b[0;34m,\u001b[0m \u001b[0;34m'-b'\u001b[0m\u001b[0;34m,\u001b[0m \u001b[0mlabel\u001b[0m\u001b[0;34m=\u001b[0m\u001b[0;34m'Actual'\u001b[0m\u001b[0;34m)\u001b[0m\u001b[0;34m\u001b[0m\u001b[0;34m\u001b[0m\u001b[0m\n\u001b[0m\u001b[1;32m      7\u001b[0m \u001b[0;31m#plt.plot(y_pred_test, '.-r', label='Estimated')\u001b[0m\u001b[0;34m\u001b[0m\u001b[0;34m\u001b[0m\u001b[0;34m\u001b[0m\u001b[0m\n\u001b[1;32m      8\u001b[0m \u001b[0mplt\u001b[0m\u001b[0;34m.\u001b[0m\u001b[0mxlabel\u001b[0m\u001b[0;34m(\u001b[0m\u001b[0;34mr'$ Generation (s)$'\u001b[0m\u001b[0;34m,\u001b[0m \u001b[0mfontsize\u001b[0m\u001b[0;34m=\u001b[0m\u001b[0;36m12\u001b[0m\u001b[0;34m)\u001b[0m\u001b[0;34m\u001b[0m\u001b[0;34m\u001b[0m\u001b[0m\n",
            "\u001b[0;31mNameError\u001b[0m: name 'Best_fitness' is not defined"
          ]
        },
        {
          "output_type": "display_data",
          "data": {
            "text/plain": [
              "<Figure size 720x432 with 1 Axes>"
            ],
            "image/png": "[encoded data removed]"
          },
          "metadata": {
            "needs_background": "light"
          }
        }
      ]
    }
  ]
}